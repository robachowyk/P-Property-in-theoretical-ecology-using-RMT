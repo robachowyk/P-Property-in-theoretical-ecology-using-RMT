{
 "cells": [
  {
   "cell_type": "code",
   "execution_count": 13,
   "id": "fc53099b-d6a9-42e7-b2aa-877b6ac6da42",
   "metadata": {},
   "outputs": [],
   "source": [
    "import sys\n",
    "import os\n",
    "\n",
    "PATH1 = os.path.join(\"..\", \"simulations\",\"utils\")\n",
    "sys.path.append(PATH1)\n",
    "from general_utils import *\n",
    "\n",
    "PATH2 = os.path.join(\"Jiri_Rohn_s_algorithm\") \n",
    "sys.path.append(PATH2)\n",
    "\n",
    "import absvaleqn\n",
    "import beeckcond\n",
    "import is_member\n",
    "import janssonsheuristic\n",
    "import matplotlib.pyplot as plt\n",
    "import normform\n",
    "import numpy as np\n",
    "import pmatrix\n",
    "import qzmatrix\n",
    "import regising\n",
    "import regsuffcondqz\n",
    "import scipy\n",
    "import scipy.optimize\n",
    "import sgn\n",
    "import singdetdesc\n",
    "import vec2mat\n",
    "\n",
    "from tqdm import tqdm\n",
    "import datetime\n",
    "import time\n",
    "\n",
    "darkorange = (0.804, 0.4, 0)\n",
    "airforceblue = (0.36, 0.54, 0.66)\n",
    "metallic_gold = (0.83, 0.69, 0.22)\n",
    "glaucous_blue = (0.38, 0.51, 0.71)\n",
    "darkred = (0.804, 0, 0)\n",
    "black = (0, 0, 1)\n",
    "\n",
    "now = str(datetime.datetime.now()).replace(\":\",\"-\").replace(\" \",\"_\")[:-7]"
   ]
  },
  {
   "cell_type": "markdown",
   "id": "c2f40faa-5879-41e2-893f-f6be682f140f",
   "metadata": {},
   "source": [
    "### Non hermitian case"
   ]
  },
  {
   "cell_type": "code",
   "execution_count": 2,
   "id": "218294d9-e2c7-4d3b-b25e-4a66f4646ffe",
   "metadata": {},
   "outputs": [],
   "source": [
    "alphas = np.linspace(0.001,2,10) #\n",
    "N = 15 #\n",
    "nbr_iter = 10 #\n",
    "phase_transition_value = 1 #\n",
    "graphics_folder = \"\" #"
   ]
  },
  {
   "cell_type": "code",
   "execution_count": 3,
   "id": "f83905a1-2a45-4450-8126-acb3245301a0",
   "metadata": {},
   "outputs": [
    {
     "name": "stderr",
     "output_type": "stream",
     "text": [
      " 30%|████████████████████████▉                                                          | 3/10 [00:20<00:00, 25.91it/s]"
     ]
    },
    {
     "name": "stdout",
     "output_type": "stream",
     "text": [
      "Exception:  Phase 1 of the simplex method failed to find a feasible solution. The pseudo-objective function evaluates to 1.5e+01 which exceeds the required tolerance of 1e-09 for a solution to be considered 'close enough' to zero to be a basic solution. Consider increasing the tolerance to be greater than 1.5e+01. If this tolerance is unacceptably  large the problem may be infeasible.\n"
     ]
    },
    {
     "name": "stderr",
     "output_type": "stream",
     "text": [
      "100%|██████████████████████████████████████████████████████████████████████████████████| 10/10 [03:43<00:00, 22.34s/it]\n"
     ]
    }
   ],
   "source": [
    "start = time.time()\n",
    "\n",
    "alpha_p_matrix_proba = {}\n",
    "\n",
    "for alpha in tqdm(alphas):\n",
    "\n",
    "    p_matrix_result = []\n",
    "    i = 0\n",
    "\n",
    "    while i < nbr_iter:\n",
    "\n",
    "        random_matrix = np.random.normal(loc = 0, scale = 1, size = (N,N)) #\n",
    "        normalized_matrix =  random_matrix / (alpha * np.sqrt(N))\n",
    "            \n",
    "        try:\n",
    "            pmat = pmatrix.pmatrix( np.eye(N) - normalized_matrix )\n",
    "            p_matrix_result.append( pmat )\n",
    "            i += 1\n",
    "        except Exception as e:\n",
    "            print(\"Exception: \", e)\n",
    "\n",
    "    alpha_p_matrix_proba[alpha] = np.sum( np.array(p_matrix_result).astype(int) ) / nbr_iter\n",
    "    \n",
    "end = time.time()"
   ]
  },
  {
   "cell_type": "code",
   "execution_count": 4,
   "id": "b9f79f01-32e7-4586-9de3-4d95f8d7240a",
   "metadata": {},
   "outputs": [
    {
     "data": {
      "text/plain": [
       "'0:03:43.454132'"
      ]
     },
     "execution_count": 4,
     "metadata": {},
     "output_type": "execute_result"
    }
   ],
   "source": [
    "str(datetime.timedelta(seconds = end - start))"
   ]
  },
  {
   "cell_type": "code",
   "execution_count": 5,
   "id": "233aad12-639d-4533-8af8-b98ee49d1175",
   "metadata": {},
   "outputs": [
    {
     "name": "stdout",
     "output_type": "stream",
     "text": [
      "\n",
      "Montecarlo over 10 estimations,\n",
      "matrix shape 15x15\n",
      "\n"
     ]
    },
    {
     "data": {
      "image/png": "[encoded data removed]",
      "text/plain": [
       "<Figure size 720x504 with 1 Axes>"
      ]
     },
     "metadata": {
      "needs_background": "light"
     },
     "output_type": "display_data"
    }
   ],
   "source": [
    "print(f\"\\nMontecarlo over {nbr_iter} estimations,\\nmatrix shape {N}x{N}\\n\")\n",
    "\n",
    "plt.figure(figsize=(10,7))\n",
    "plt.ylim([-0.1,1.1])\n",
    "plt.xlim([-0.1,2.1])\n",
    "plt.plot(alpha_p_matrix_proba.keys(), alpha_p_matrix_proba.values(), color = airforceblue)\n",
    "plt.axvline(x = phase_transition_value, linestyle = \"-\", color = darkorange)\n",
    "plt.title(r\"Probability of p-property of $I - \\frac{X_N}{\\alpha \\sqrt{N}}$ according to $\\alpha$\", fontsize = 15)\n",
    "plt.xlabel(r\"$\\alpha$\", fontsize = 15)\n",
    "#name_file = f\"proba_p_property_alpha_{now}.png\"\n",
    "#plt.savefig(os.path.join(graphics_folder, name_file))\n",
    "plt.show();"
   ]
  },
  {
   "cell_type": "markdown",
   "id": "daaaed5f-320c-4f2b-94d1-11754ff3f3dd",
   "metadata": {},
   "source": [
    "### Hermitian case"
   ]
  },
  {
   "cell_type": "code",
   "execution_count": 20,
   "id": "72387037-cb99-40d8-bf31-29fdf682376b",
   "metadata": {},
   "outputs": [],
   "source": [
    "alphas = np.linspace(1,3,10) #\n",
    "N = 15 #\n",
    "nbr_iter = 10 #\n",
    "phase_transition_value = 2 #\n",
    "graphics_folder = \"\" #"
   ]
  },
  {
   "cell_type": "code",
   "execution_count": 21,
   "id": "429d4f6d-e4bb-4ee3-9b66-1be06b2c84d9",
   "metadata": {},
   "outputs": [
    {
     "name": "stderr",
     "output_type": "stream",
     "text": [
      "100%|██████████████████████████████████████████████████████████████████████████████████| 10/10 [00:00<00:00, 16.10it/s]\n"
     ]
    }
   ],
   "source": [
    "start = time.time()\n",
    "\n",
    "alpha_p_matrix_proba = {}\n",
    "\n",
    "for alpha in tqdm(alphas):\n",
    "\n",
    "    p_matrix_result = []\n",
    "    i = 0\n",
    "\n",
    "    while i < nbr_iter:\n",
    "\n",
    "        random_matrix = get_wigner(loc = 0, scale = 1, size = (N,N)) #\n",
    "        normalized_matrix =  random_matrix / (alpha * np.sqrt(N))\n",
    "            \n",
    "        try:\n",
    "            pmat = pmatrix.pmatrix( np.eye(N) - normalized_matrix )\n",
    "            p_matrix_result.append( pmat )\n",
    "            i += 1\n",
    "        except Exception as e:\n",
    "            print(\"Exception: \", e)\n",
    "\n",
    "    alpha_p_matrix_proba[alpha] = np.sum( np.array(p_matrix_result).astype(int) ) / nbr_iter\n",
    "    \n",
    "end = time.time()"
   ]
  },
  {
   "cell_type": "code",
   "execution_count": 22,
   "id": "7c4e3ba0-379d-4498-aada-2065d9c770f4",
   "metadata": {},
   "outputs": [
    {
     "data": {
      "text/plain": [
       "'0:00:00.625300'"
      ]
     },
     "execution_count": 22,
     "metadata": {},
     "output_type": "execute_result"
    }
   ],
   "source": [
    "str(datetime.timedelta(seconds = end - start))"
   ]
  },
  {
   "cell_type": "code",
   "execution_count": 23,
   "id": "92f5e01a-7f9e-4328-8100-26b6a8eaea6c",
   "metadata": {},
   "outputs": [
    {
     "name": "stdout",
     "output_type": "stream",
     "text": [
      "\n",
      "Montecarlo over 10 estimations,\n",
      "matrix shape 15x15\n",
      "\n"
     ]
    },
    {
     "data": {
      "image/png": "[encoded data removed]",
      "text/plain": [
       "<Figure size 720x504 with 1 Axes>"
      ]
     },
     "metadata": {
      "needs_background": "light"
     },
     "output_type": "display_data"
    }
   ],
   "source": [
    "print(f\"\\nMontecarlo over {nbr_iter} estimations,\\nmatrix shape {N}x{N}\\n\")\n",
    "\n",
    "plt.figure(figsize=(10,7))\n",
    "plt.ylim([-0.1,1.1])\n",
    "plt.xlim([0.9,3.1])\n",
    "plt.plot(alpha_p_matrix_proba.keys(), alpha_p_matrix_proba.values(), color = airforceblue)\n",
    "plt.axvline(x = phase_transition_value, linestyle = \"-\", color = darkorange)\n",
    "plt.title(r\"Probability of p-property of $I - \\frac{W_N}{\\alpha \\sqrt{N}}$ according to $\\alpha$\", fontsize = 15)\n",
    "plt.xlabel(r\"$\\alpha$\", fontsize = 15)\n",
    "#name_file = f\"proba_p_property_alpha_{now}.png\"\n",
    "#plt.savefig(os.path.join(graphics_folder, name_file))\n",
    "plt.show();"
   ]
  },
  {
   "cell_type": "code",
   "execution_count": null,
   "id": "5b0f4f30-dcf5-4b44-bb5f-4e5279c2f229",
   "metadata": {},
   "outputs": [],
   "source": []
  }
 ],
 "metadata": {
  "kernelspec": {
   "display_name": "Python 3",
   "language": "python",
   "name": "python3"
  },
  "language_info": {
   "codemirror_mode": {
    "name": "ipython",
    "version": 3
   },
   "file_extension": ".py",
   "mimetype": "text/x-python",
   "name": "python",
   "nbconvert_exporter": "python",
   "pygments_lexer": "ipython3",
   "version": "3.8.8"
  }
 },
 "nbformat": 4,
 "nbformat_minor": 5
}
